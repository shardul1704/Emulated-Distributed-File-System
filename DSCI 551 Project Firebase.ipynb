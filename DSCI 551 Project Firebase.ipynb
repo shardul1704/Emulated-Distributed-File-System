{
 "cells": [
  {
   "cell_type": "code",
   "execution_count": 1,
   "metadata": {
    "colab": {
     "base_uri": "https://localhost:8080/",
     "height": 340
    },
    "id": "jsuQO_lgu48r",
    "outputId": "ac8a1ced-0d09-4fac-d93b-4acc46b08b13"
   },
   "outputs": [
    {
     "name": "stdout",
     "output_type": "stream",
     "text": [
      "Connecting to wss://anvil.works/uplink\n",
      "Anvil websocket open\n",
      "Connected to \"Default environment\" as SERVER\n"
     ]
    }
   ],
   "source": [
    "import anvil.server\n",
    "import anvil.mpl_util\n",
    "anvil.server.connect(\"365ETCRLV4W7EOTU7G4H3XWB-TIQDV4JV6KKM7YQO\")"
   ]
  },
  {
   "cell_type": "code",
   "execution_count": 2,
   "metadata": {
    "id": "6iWBcGwJNJx0"
   },
   "outputs": [
    {
     "name": "stderr",
     "output_type": "stream",
     "text": [
      "C:\\Users\\shard\\anaconda3\\lib\\site-packages\\_distutils_hack\\__init__.py:30: UserWarning: Setuptools is replacing distutils.\n",
      "  warnings.warn(\"Setuptools is replacing distutils.\")\n"
     ]
    }
   ],
   "source": [
    "from pip import main\n",
    "import pandas as pd\n",
    "import requests\n",
    "import json\n",
    "import sys\n",
    "import seaborn as sns\n",
    "import numpy as np\n",
    "import warnings\n",
    "warnings.filterwarnings('ignore')"
   ]
  },
  {
   "cell_type": "markdown",
   "metadata": {
    "id": "5KkOvhP-cenB"
   },
   "source": [
    "# MKDIR"
   ]
  },
  {
   "cell_type": "code",
   "execution_count": 3,
   "metadata": {
    "id": "UtXWJSOkNJx2"
   },
   "outputs": [],
   "source": [
    "pwd = \"\"\n",
    "def mkdir(file_name):\n",
    "  json_object = '{\"'+file_name+'\":\"\"}'\n",
    "  r1 = requests.get('https://usctrojan-18644-default-rtdb.firebaseio.com/.json')\n",
    "  dic = json.loads(r1.text)\n",
    "  if (file_name in dic.keys()):\n",
    "    return(\"File already exists\")\n",
    "  else:\n",
    "    r2 = requests.patch('https://usctrojan-18644-default-rtdb.firebaseio.com/.json'.format(pwd),json_object)\n",
    "\n",
    "def mkdiring(location,file_name):\n",
    "  prev_loc=\"\"\n",
    "  for i in location:\n",
    "        prev_loc = prev_loc+\"/\"+i\n",
    "  json_object = '{\"'+prev_loc+'/'+file_name+'\":\"\"}'\n",
    "  r1 = requests.get('https://usctrojan-18644-default-rtdb.firebaseio.com/.json')\n",
    "  dic = json.loads(r1.text)\n",
    "  if (file_name in dic.keys()):\n",
    "    return(\"File already exists\")\n",
    "  else:\n",
    "    r2 = requests.patch('https://usctrojan-18644-default-rtdb.firebaseio.com/.json'.format(pwd),json_object)\n",
    "  "
   ]
  },
  {
   "cell_type": "markdown",
   "metadata": {
    "id": "KrSXix2fchTf"
   },
   "source": [
    "# LS"
   ]
  },
  {
   "cell_type": "code",
   "execution_count": 4,
   "metadata": {
    "id": "agHiUBXtNJx3"
   },
   "outputs": [],
   "source": [
    "def ls(file_name):\n",
    "    r1 = requests.get('https://usctrojan-18644-default-rtdb.firebaseio.com/'+file_name+'.json')\n",
    "    dic = json.loads(r1.text)\n",
    "    print(dic)\n",
    "    str1 = \"\"\n",
    "    return (str1.join(dic.keys()))\n",
    "  \n",
    "def lsing(location):\n",
    "    prev_loc=\"\"\n",
    "    for i in location:\n",
    "        prev_loc = prev_loc+\"/\"+i\n",
    "    r1 = requests.get('https://usctrojan-18644-default-rtdb.firebaseio.com'+prev_loc+'.json')\n",
    "    dic = json.loads(r1.text)\n",
    "    print(dic)\n",
    "    str1 = \" \"\n",
    "    return (str1.join(dic.keys()))"
   ]
  },
  {
   "cell_type": "markdown",
   "metadata": {
    "id": "QQhWAknZci83"
   },
   "source": [
    "# CD"
   ]
  },
  {
   "cell_type": "code",
   "execution_count": 5,
   "metadata": {
    "id": "j5TKDKXNNJx4"
   },
   "outputs": [],
   "source": [
    "def cd(location,file_name):\n",
    "  global pwd\n",
    "  if file_name == \"..\": \n",
    "      location.pop()\n",
    "      if len(location)==0:\n",
    "        location.append(\"main\")\n",
    "        str1 = '/'.join(location)\n",
    "        return str1\n",
    "      else:\n",
    "        str1 = '/'.join(location)\n",
    "        return str1\n",
    "  else:\n",
    "      prev_loc = \"\"\n",
    "      for i in location:\n",
    "        prev_loc = prev_loc+\"/\"+i\n",
    "      r1 = requests.get('https://usctrojan-18644-default-rtdb.firebaseio.com'+prev_loc+'.json')\n",
    "      dic = json.loads(r1.text)\n",
    "      if file_name in dic:\n",
    "        location.append(file_name)\n",
    "        str1 = '/'.join(location)\n",
    "        return str1\n",
    "        \n",
    "      else:\n",
    "        print(\"Location does not exist\")"
   ]
  },
  {
   "cell_type": "markdown",
   "metadata": {
    "id": "OIT_oMgQcls1"
   },
   "source": [
    "# RM"
   ]
  },
  {
   "cell_type": "code",
   "execution_count": 6,
   "metadata": {
    "id": "0HPoYvlbS0Uj"
   },
   "outputs": [],
   "source": [
    "def rm(file_name,location):\n",
    "    json_object = '{\"'+file_name+'\":\"\"}'\n",
    "    prev_loc = \"\"\n",
    "    for i in location:\n",
    "        prev_loc = prev_loc+\"/\"+i\n",
    "    r1 = requests.get('https://usctrojan-18644-default-rtdb.firebaseio.com'+prev_loc+'.json')\n",
    "    dic = json.loads(r1.text)\n",
    "    partition_locs = getPartitions(file_name,location)\n",
    "    for i in partition_locs:\n",
    "        r2 = requests.delete(i)\n",
    "    r3 = requests.delete('https://usctrojan-18644-default-rtdb.firebaseio.com'+prev_loc+\"/\"+file_name+'.json')\n",
    "    if(r2.status_code!=200):\n",
    "        return(\"File doesn't exists\")\n",
    "    elif(r2.status_code==200):\n",
    "        return(\"File deleted!\")"
   ]
  },
  {
   "cell_type": "markdown",
   "metadata": {
    "id": "9Kl0otbhcnPc"
   },
   "source": [
    "# CAT"
   ]
  },
  {
   "cell_type": "code",
   "execution_count": 7,
   "metadata": {
    "id": "_7tU4Xnn4UhK"
   },
   "outputs": [],
   "source": [
    "def cat(file_name,location):\n",
    "    prev_loc = \"\"\n",
    "    df = []\n",
    "    for i in location:\n",
    "        prev_loc = prev_loc+\"/\"+i\n",
    "    location_list=getPartitions(file_name,location)\n",
    "    for i in range(1,len(location_list)+1):\n",
    "        df.append(readPartitions(file_name,location,i))\n",
    "    maindf = pd.concat(df)\n",
    "    return maindf.dropna()"
   ]
  },
  {
   "cell_type": "markdown",
   "metadata": {
    "id": "IvdAW3oHyRH1"
   },
   "source": [
    "# PUT"
   ]
  },
  {
   "cell_type": "code",
   "execution_count": 8,
   "metadata": {
    "id": "52OXUncmyECI"
   },
   "outputs": [],
   "source": [
    "def put(file,location,k):\n",
    "  df = pd.read_csv(file)\n",
    "  files = file.split(\".\")\n",
    "  file = files[0]\n",
    "  count_row = df.shape[0]\n",
    "  k = int(k)\n",
    "  sliceval = round(count_row/k)\n",
    "  partitions_df=[]\n",
    "  z=0\n",
    "  for i in range (0,k):\n",
    "    partitions_df.append(df[z:z+sliceval])\n",
    "    z=z+sliceval\n",
    "  file_location = []\n",
    "  for i in range (0,len(partitions_df)):\n",
    "    js = partitions_df[i].to_json()\n",
    "    diction = json.loads(js)\n",
    "    jstring = json.dumps(diction)\n",
    "    r1 = requests.patch('https://usctrojan-18644-default-rtdb.firebaseio.com/datanode/'+str(i+1)+'/'+file+str(i+1)+'.json',jstring)\n",
    "    file_location.append('https://usctrojan-18644-default-rtdb.firebaseio.com/datanode/'+str(i+1)+'/'+file+str(i+1)+'.json')\n",
    "\n",
    "\n",
    "  prev_loc = \"\"\n",
    "  metadiction = {\"File Name\":file,\"Number of Partitions\":k,\"Locations\":file_location}\n",
    "  metajstring = json.dumps(metadiction)\n",
    "  for i in location:\n",
    "    prev_loc = prev_loc+\"/\"+i\n",
    "  r2 = requests.patch('https://usctrojan-18644-default-rtdb.firebaseio.com'+prev_loc+'/'+file+'.json',metajstring)"
   ]
  },
  {
   "cell_type": "markdown",
   "metadata": {
    "id": "EDq_Dd2KAeid"
   },
   "source": [
    "# getPartitions"
   ]
  },
  {
   "cell_type": "code",
   "execution_count": 9,
   "metadata": {
    "id": "d58gTaPKAeIM"
   },
   "outputs": [],
   "source": [
    "def getPartitions(file_name,location):\n",
    "  json_object = '{\"'+file_name+'\":\"\"}'\n",
    "  prev_loc = \"\"\n",
    "  for i in location:\n",
    "    prev_loc = prev_loc+\"/\"+i\n",
    "  r1 = requests.get('https://usctrojan-18644-default-rtdb.firebaseio.com'+prev_loc+\"/\"+file_name+'.json')\n",
    "  dic = json.loads(r1.text)\n",
    "  location_list=[]\n",
    "  location_list=dic[\"Locations\"]\n",
    "  return location_list\n"
   ]
  },
  {
   "cell_type": "markdown",
   "metadata": {
    "id": "x6T1XuhkA0n5"
   },
   "source": [
    "# readPartitions"
   ]
  },
  {
   "cell_type": "code",
   "execution_count": 10,
   "metadata": {
    "id": "pRPV3_qhAd-5"
   },
   "outputs": [],
   "source": [
    "def readPartitions(file_name,location,kth):\n",
    "  json_object = '{\"'+file_name+'\":\"\"}'\n",
    "  prev_loc = \"\"\n",
    "  kth = int(kth)\n",
    "  for i in location:\n",
    "    prev_loc = prev_loc+\"/\"+i\n",
    "  location_list = getPartitions(file_name,location)\n",
    "  if(kth <= len(location_list)):\n",
    "    r1 = requests.get(location_list[kth-1])\n",
    "    dic = json.loads(r1.text)\n",
    "    df=pd.DataFrame(dic)\n",
    "    return df.dropna()\n",
    "  else:\n",
    "    return(\"Required partition does not exist!!!\")"
   ]
  },
  {
   "cell_type": "markdown",
   "metadata": {},
   "source": [
    "# Analytics - Average Temperature"
   ]
  },
  {
   "cell_type": "code",
   "execution_count": 11,
   "metadata": {},
   "outputs": [],
   "source": [
    "def CityTemp(city, glt):\n",
    "    citytemps = glt[glt['City'] == city]['AverageTemperature'].dropna()\n",
    "    return np.average(citytemps)\n",
    "\n",
    "def avgtemp(location,city):\n",
    "    parts = getPartitions(\"CityTemp\",location)\n",
    "    ran = len(parts)\n",
    "    result = []\n",
    "    for i in range(1, ran+1):\n",
    "        glt = readPartitions(\"CityTemp\" , location , i)\n",
    "        if city in glt['City'].tolist():\n",
    "            result.append(CityTemp(city, glt))\n",
    "    return('Average temperature of the city is '+str(round(np.mean(result),2))+' Celsius')"
   ]
  },
  {
   "cell_type": "markdown",
   "metadata": {},
   "source": [
    "# Analytics - City graph"
   ]
  },
  {
   "cell_type": "code",
   "execution_count": 12,
   "metadata": {},
   "outputs": [],
   "source": [
    "def citygraph(location,city, start_year, end_year):\n",
    "    parts = getPartitions(\"CityTemp\",location)\n",
    "    ran = len(parts)\n",
    "    index=0\n",
    "    for i in range(1, ran+1):\n",
    "        glt = readPartitions(\"CityTemp\" , location , i)\n",
    "        glt = glt.reset_index().drop('index', axis = 1)\n",
    "        for j in range (0, len(glt)):\n",
    "            if glt['City'][j] == city:\n",
    "                if glt['Years'][j] == start_year:\n",
    "                    si = index\n",
    "                if glt['Years'][j] == end_year:\n",
    "                    ei = index\n",
    "            index=index+1\n",
    "    df = cat(\"CityTemp\",location)\n",
    "    sns.set(rc={'figure.figsize':(40,20)})\n",
    "    sns.set(font_scale=5)\n",
    "    ax = sns.lineplot(data= df[\"AverageTemperature\"][si:ei])\n",
    "    ax.set_xticks([])\n",
    "    ax.set(xlabel=str(start_year) + '-' + str(end_year),\n",
    "            ylabel='Temperature in Celcius',\n",
    "            title='Yearwise City Temperature from ' + str(start_year) + '-' + str(end_year))\n",
    "    return anvil.mpl_util.plot_image()"
   ]
  },
  {
   "cell_type": "markdown",
   "metadata": {},
   "source": [
    "# Analytics - Ozone"
   ]
  },
  {
   "cell_type": "code",
   "execution_count": 13,
   "metadata": {},
   "outputs": [],
   "source": [
    "def ozograph(location, start_year, end_year):\n",
    "    parts = getPartitions(\"OzoneHole\",location)\n",
    "    ran = len(parts)\n",
    "    start_year = int(start_year)\n",
    "    end_year = int(end_year)\n",
    "    index = 0\n",
    "    for i in range(1, ran+1):\n",
    "        ozo = readPartitions(\"OzoneHole\" , location , i)\n",
    "        for i in range (0, len(ozo)):\n",
    "            if start_year == ozo['Year'][index]:\n",
    "                si = index\n",
    "            if end_year == ozo['Year'][index]:\n",
    "                ei = index\n",
    "            index = index + 1\n",
    "    temu = cat(\"OzoneHole\",location)\n",
    "    temu = cat(\"OzoneHole\",location).dropna()\n",
    "    sns.set(rc={'figure.figsize':(40,20)})\n",
    "    sns.set(font_scale=5)\n",
    "    ax = sns.lineplot(data= temu.iloc[si:ei],x=\"Year\", y=\"Hole Area\")\n",
    "    ax.set_xticks([])\n",
    "    ax.set(xlabel=str(start_year) + '-' + str(end_year),\n",
    "            ylabel='Hole Area',\n",
    "            title='Yearwise Ozone Hole size from ' + str(start_year) + '-' + str(end_year))\n",
    "    return anvil.mpl_util.plot_image()"
   ]
  },
  {
   "cell_type": "markdown",
   "metadata": {},
   "source": [
    "# Analytics - Sea Levels"
   ]
  },
  {
   "cell_type": "code",
   "execution_count": 14,
   "metadata": {},
   "outputs": [],
   "source": [
    "def maxyearsea(location,start_year, end_year):\n",
    "    parts = getPartitions(\"Seas\",location)\n",
    "    ran = len(parts)\n",
    "    temps = []\n",
    "    index = 0\n",
    "    startflag = 0\n",
    "    endflag = 0\n",
    "    outputs = []\n",
    "    opindex = 0\n",
    "    for i in range(1, ran+1):\n",
    "        tempop = []\n",
    "        sea = readPartitions(\"Seas\" , location , i).reset_index()\n",
    "        for s in range (0, len(sea)):\n",
    "            \n",
    "            if int(start_year) == int(sea['year'][s]):\n",
    "                si = index\n",
    "                startflag = 1\n",
    "            if int(end_year) == int(sea['year'][s]):\n",
    "                ei = index\n",
    "                endflag = 1\n",
    "            index = index+1\n",
    "            if startflag == 1 and endflag == 0:\n",
    "                opindex = i\n",
    "                last = sea\n",
    "                tempop.append(pd.DataFrame(sea.iloc[s]))\n",
    "        outputs.append(tempop)\n",
    "          \n",
    "    temu = cat(\"Seas\",location)\n",
    "    sns.set(rc={'figure.figsize':(40,20)})\n",
    "    sns.set(font_scale=5)\n",
    "    ax=sns.lineplot(x = temu['year'][si:ei] , y = temu['total'][si:ei],color='darkblue')\n",
    "    ax.set(ylabel='Sea Level',\n",
    "            title='Yearwise Sea Levels ' + str(start_year) + '-' + str(end_year))\n",
    "    op = pd.concat(outputs[opindex-1], axis=1).T.drop(['index', 'Unnamed: 0'], axis = 1)\n",
    "    last = last.drop(['index', 'Unnamed: 0'], axis = 1)\n",
    "    return anvil.mpl_util.plot_image()"
   ]
  },
  {
   "cell_type": "markdown",
   "metadata": {},
   "source": [
    "# Search - Ozone"
   ]
  },
  {
   "cell_type": "code",
   "execution_count": 15,
   "metadata": {},
   "outputs": [],
   "source": [
    "def mapsearchOzone(limit, ozo):\n",
    "    parts = getPartitions(\"OzoneHole\",location)\n",
    "    ran = len(parts)\n",
    "    return ozo[ozo['Hole Area'] >= int(limit)]\n",
    "\n",
    "def reduceOzone(limit):\n",
    "    parts = getPartitions(\"OzoneHole\",location)\n",
    "    outputs = []\n",
    "    for i in range (1, len(parts)+1):\n",
    "        ozo = readPartitions(\"OzoneHole\" , location , i)\n",
    "        outputs.append(mapsearchOzone(limit, ozo))\n",
    "    r1=parts\n",
    "    r2=ozo\n",
    "    r3=outputs[-1]\n",
    "    r4=pd.concat(outputs)\n",
    "    return r1,r2,r3,r4"
   ]
  },
  {
   "cell_type": "markdown",
   "metadata": {},
   "source": [
    "# Search - Sea"
   ]
  },
  {
   "cell_type": "code",
   "execution_count": 16,
   "metadata": {},
   "outputs": [],
   "source": [
    "def mapsearchSea(start_year, end_year, sea):\n",
    "    return(pd.merge(sea[sea['year'] <= end_year], sea[sea['year'] >= start_year], how ='inner', on =['year', 'total']))\n",
    "\n",
    "def reduceSea(start_year, end_year):\n",
    "    parts = getPartitions(\"Seas\",location)\n",
    "    outputs = []\n",
    "    for i in range (1, len(parts)+1):\n",
    "        sea = readPartitions(\"Seas\" , location , i).drop('Unnamed: 0', axis = 1)\n",
    "        outputs.append(mapsearchSea(start_year, end_year,sea))\n",
    "    return parts,sea,outputs[-1],pd.concat(outputs)"
   ]
  },
  {
   "cell_type": "markdown",
   "metadata": {},
   "source": [
    "# Search - Country Temperatures"
   ]
  },
  {
   "cell_type": "code",
   "execution_count": 17,
   "metadata": {},
   "outputs": [],
   "source": [
    "def mapsearchTemp(country, temp):\n",
    "    return(temp[temp['Country'] == country])\n",
    "\n",
    "def reduceTemp(country):\n",
    "    parts = getPartitions(\"CityTemp\",location)\n",
    "    outputs = []\n",
    "    for i in range (1, len(parts)+1):\n",
    "        temp = readPartitions(\"CityTemp\" , location , i)\n",
    "        outputs.append(mapsearchTemp(country, temp))\n",
    "    return parts,temp,outputs[-1],pd.concat(outputs).dropna()"
   ]
  },
  {
   "cell_type": "markdown",
   "metadata": {
    "id": "g2NBRROUcpJQ"
   },
   "source": [
    "# MAIN"
   ]
  },
  {
   "cell_type": "code",
   "execution_count": 18,
   "metadata": {
    "id": "hTEpoImou49D"
   },
   "outputs": [],
   "source": [
    "def main():\n",
    "    global location\n",
    "    r1 = requests.get('https://usctrojan-18644-default-rtdb.firebaseio.com/.json')\n",
    "    dic = json.loads(r1.text)\n",
    "    if (\"datanode\" not in dic.keys()):\n",
    "      json_object1 = '{\"datanode\":\"\"}'\n",
    "      requests.patch('https://usctrojan-18644-default-rtdb.firebaseio.com/.json'.format(pwd),json_object1)\n",
    "    if (\"main\" not in dic.keys()):\n",
    "      json_object2 = '{\"main\":\"\"}'\n",
    "      requests.patch('https://usctrojan-18644-default-rtdb.firebaseio.com/.json'.format(pwd),json_object2)\n",
    "    location = []\n",
    "    location.append(\"main\")\n",
    "if __name__==\"__main__\":\n",
    "     main()"
   ]
  },
  {
   "cell_type": "code",
   "execution_count": 19,
   "metadata": {
    "id": "jYB4FHUvUNJe"
   },
   "outputs": [],
   "source": [
    "@anvil.server.callable\n",
    "def maincode(command):\n",
    "    command = command.split()\n",
    "    main_command = command[0]\n",
    "    if main_command == \"mkdir\":               #MKDIR\n",
    "        try:\n",
    "            filename = command[1]\n",
    "            if filename.find(\"/\")!=-1:\n",
    "                t=mkdir(str(filename))\n",
    "                return t\n",
    "            else:\n",
    "                t=mkdiring(location,str(filename))\n",
    "                return t\n",
    "        except:\n",
    "            return(\"No file name\")     \n",
    "    elif main_command == \"ls\":                  #LS\n",
    "        try:\n",
    "            filename = command[1]\n",
    "            t2=ls(filename)\n",
    "            return t2\n",
    "        except:\n",
    "            t2=lsing(location)\n",
    "            return t2\n",
    "    elif main_command == \"rm\":                  #RM\n",
    "        try:\n",
    "            filename = command[1]\n",
    "            t4 = rm(str(filename),location)\n",
    "            return t4\n",
    "        except:\n",
    "            return(\"No file name\")  \n",
    "    elif main_command == \"cd\":                  #CD\n",
    "        try:\n",
    "            directoryname = command[1]\n",
    "            cd(location,str(directoryname))\n",
    "            \n",
    "        except:\n",
    "            return(\"Error!\")\n",
    "    elif main_command==\"cat\":                   #CAT\n",
    "        try:\n",
    "            filename = command[1]\n",
    "            t5=cat(str(filename),location)\n",
    "            t9=t5.to_markdown()\n",
    "            return t9\n",
    "        except:\n",
    "            return(\"Error!\")\n",
    "    elif main_command==\"put\":                   #PUT\n",
    "        try:\n",
    "            filename = command[1]\n",
    "            partitions = command [2]\n",
    "            put(str(filename),location,partitions)\n",
    "            return (\"Success!\")\n",
    "        except:\n",
    "            return(\"Error!\")\n",
    "    elif main_command==\"getP\":                   #getPartitions\n",
    "        try:\n",
    "            filename = command[1]\n",
    "            df = getPartitions(str(filename),location)\n",
    "            my_str = '\\n'. join(df)\n",
    "            return(my_str)\n",
    "        except:\n",
    "            return(\"Error!\")\n",
    "    elif main_command==\"readP\":                   #readPartitions\n",
    "        try:\n",
    "            filename = command[1]\n",
    "            partition = command [2]\n",
    "            df = readPartitions(str(filename),location,partition)\n",
    "            return(df.to_markdown())\n",
    "        except:\n",
    "            return(\"Error!\")\n",
    "    elif main_command==\"AvgTemp\":                   #AvgTemp\n",
    "        try:\n",
    "            city = command[1]\n",
    "            res = avgtemp(location,str(city))\n",
    "            return(res)\n",
    "        except:\n",
    "            return(\"Error!\")\n",
    "    elif main_command==\"CityGraph\":                   #City Graph\n",
    "        try:\n",
    "            city = command[1]\n",
    "            sy = command[2]\n",
    "            ey = command[3]\n",
    "            res = citygraph(location,str(city),int(sy),int(ey))\n",
    "            return(res)\n",
    "        except:\n",
    "            return(\"Error!\")\n",
    "    elif main_command==\"OzoneGraph\":                   #Ozone Graph\n",
    "        try:\n",
    "            sy = command[1]\n",
    "            ey = command[2]\n",
    "            res = ozograph(location,int(sy),int(ey))\n",
    "            return(res)\n",
    "        except:\n",
    "            return(\"Error!\")\n",
    "    elif main_command==\"SeaLevel\":                   #Sea Level\n",
    "        try:\n",
    "            sy = command[1]\n",
    "            ey = command[2]\n",
    "            res = maxyearsea(location,int(sy),int(ey))\n",
    "            return(res)\n",
    "        except:\n",
    "            return(\"Error!\")\n",
    "    elif main_command==\"SearchOzone\":                   #Search Ozone\n",
    "        try:\n",
    "            limit = command[1]\n",
    "            r1,r2,r3,r4 = reduceOzone(str(limit))\n",
    "            r4.reset_index(drop=True, inplace=True)\n",
    "            return(r1,r2.to_markdown(),r3.to_markdown(),r4.to_markdown())\n",
    "        except:\n",
    "            return(\"Error!\")\n",
    "    elif main_command==\"SearchSea\":                   #Search Ozone\n",
    "        try:\n",
    "            sy = command[1]\n",
    "            ey = command[2]\n",
    "            r1,r2,r3,r4 = reduceSea(int(sy),int(ey))\n",
    "            r4.reset_index(drop=True, inplace=True)\n",
    "            return(r1,r2.to_markdown(),r3.to_markdown(),r4.to_markdown())\n",
    "        except:\n",
    "            return(\"Error!\")\n",
    "    elif main_command==\"SearchCountryTemp\":                   #Search Country Temp\n",
    "        try:\n",
    "            country = command[1]\n",
    "            r1,r2,r3,r4 = reduceTemp(str(country))\n",
    "            r4.reset_index(drop=True, inplace=True)\n",
    "            return(r1,r2.to_markdown(),r3.to_markdown(),r4.to_markdown())\n",
    "        except:\n",
    "            return(\"Error!\")\n",
    "    else:\n",
    "        return(\"Command not found!!!!\")\n",
    "    \n",
    "\n",
    "@anvil.server.callable\n",
    "def currLocation():\n",
    "    mystr='/'.join(location)\n",
    "    return mystr"
   ]
  },
  {
   "cell_type": "code",
   "execution_count": 20,
   "metadata": {
    "id": "gS9JmSf6UNHN"
   },
   "outputs": [
    {
     "name": "stdout",
     "output_type": "stream",
     "text": [
      "{'desktop': {'games': ''}, 'documents': '', 'files': {'temperatures': {'Salaries': {'File Name': 'Salaries', 'Locations': ['https://usctrojan-18644-default-rtdb.firebaseio.com/datanode/1/Salaries1.json', 'https://usctrojan-18644-default-rtdb.firebaseio.com/datanode/2/Salaries2.json', 'https://usctrojan-18644-default-rtdb.firebaseio.com/datanode/3/Salaries3.json', 'https://usctrojan-18644-default-rtdb.firebaseio.com/datanode/4/Salaries4.json'], 'Number of Partitions': 4}}, 'test': '', 'weather': {'CityTemp': {'File Name': 'CityTemp', 'Locations': ['https://usctrojan-18644-default-rtdb.firebaseio.com/datanode/1/CityTemp1.json', 'https://usctrojan-18644-default-rtdb.firebaseio.com/datanode/2/CityTemp2.json', 'https://usctrojan-18644-default-rtdb.firebaseio.com/datanode/3/CityTemp3.json', 'https://usctrojan-18644-default-rtdb.firebaseio.com/datanode/4/CityTemp4.json', 'https://usctrojan-18644-default-rtdb.firebaseio.com/datanode/5/CityTemp5.json'], 'Number of Partitions': 5}, 'Ozone': {'File Name': 'Ozone', 'Locations': ['https://usctrojan-18644-default-rtdb.firebaseio.com/datanode/1/Ozone1.json', 'https://usctrojan-18644-default-rtdb.firebaseio.com/datanode/2/Ozone2.json', 'https://usctrojan-18644-default-rtdb.firebaseio.com/datanode/3/Ozone3.json', 'https://usctrojan-18644-default-rtdb.firebaseio.com/datanode/4/Ozone4.json'], 'Number of Partitions': 4}, 'OzoneHole': {'File Name': 'OzoneHole', 'Locations': ['https://usctrojan-18644-default-rtdb.firebaseio.com/datanode/1/OzoneHole1.json', 'https://usctrojan-18644-default-rtdb.firebaseio.com/datanode/2/OzoneHole2.json'], 'Number of Partitions': 2}, 'Salaries': {'File Name': 'Salaries', 'Locations': ['https://usctrojan-18644-default-rtdb.firebaseio.com/datanode/1/Salaries1.json', 'https://usctrojan-18644-default-rtdb.firebaseio.com/datanode/2/Salaries2.json', 'https://usctrojan-18644-default-rtdb.firebaseio.com/datanode/3/Salaries3.json', 'https://usctrojan-18644-default-rtdb.firebaseio.com/datanode/4/Salaries4.json', 'https://usctrojan-18644-default-rtdb.firebaseio.com/datanode/5/Salaries5.json'], 'Number of Partitions': 5}, 'SeaLevel': {'File Name': 'SeaLevel', 'Locations': ['https://usctrojan-18644-default-rtdb.firebaseio.com/datanode/1/SeaLevel1.json', 'https://usctrojan-18644-default-rtdb.firebaseio.com/datanode/2/SeaLevel2.json', 'https://usctrojan-18644-default-rtdb.firebaseio.com/datanode/3/SeaLevel3.json', 'https://usctrojan-18644-default-rtdb.firebaseio.com/datanode/4/SeaLevel4.json', 'https://usctrojan-18644-default-rtdb.firebaseio.com/datanode/5/SeaLevel5.json'], 'Number of Partitions': 5}, 'Seas': {'File Name': 'Seas', 'Locations': ['https://usctrojan-18644-default-rtdb.firebaseio.com/datanode/1/Seas1.json', 'https://usctrojan-18644-default-rtdb.firebaseio.com/datanode/2/Seas2.json', 'https://usctrojan-18644-default-rtdb.firebaseio.com/datanode/3/Seas3.json', 'https://usctrojan-18644-default-rtdb.firebaseio.com/datanode/4/Seas4.json', 'https://usctrojan-18644-default-rtdb.firebaseio.com/datanode/5/Seas5.json'], 'Number of Partitions': 5}}}, 'images': '', 'test': ''}\n",
      "{'desktop': {'games': ''}, 'documents': '', 'files': {'temperatures': {'Salaries': {'File Name': 'Salaries', 'Locations': ['https://usctrojan-18644-default-rtdb.firebaseio.com/datanode/1/Salaries1.json', 'https://usctrojan-18644-default-rtdb.firebaseio.com/datanode/2/Salaries2.json', 'https://usctrojan-18644-default-rtdb.firebaseio.com/datanode/3/Salaries3.json', 'https://usctrojan-18644-default-rtdb.firebaseio.com/datanode/4/Salaries4.json'], 'Number of Partitions': 4}}, 'test': '', 'weather': {'CityTemp': {'File Name': 'CityTemp', 'Locations': ['https://usctrojan-18644-default-rtdb.firebaseio.com/datanode/1/CityTemp1.json', 'https://usctrojan-18644-default-rtdb.firebaseio.com/datanode/2/CityTemp2.json', 'https://usctrojan-18644-default-rtdb.firebaseio.com/datanode/3/CityTemp3.json', 'https://usctrojan-18644-default-rtdb.firebaseio.com/datanode/4/CityTemp4.json', 'https://usctrojan-18644-default-rtdb.firebaseio.com/datanode/5/CityTemp5.json'], 'Number of Partitions': 5}, 'Ozone': {'File Name': 'Ozone', 'Locations': ['https://usctrojan-18644-default-rtdb.firebaseio.com/datanode/1/Ozone1.json', 'https://usctrojan-18644-default-rtdb.firebaseio.com/datanode/2/Ozone2.json', 'https://usctrojan-18644-default-rtdb.firebaseio.com/datanode/3/Ozone3.json', 'https://usctrojan-18644-default-rtdb.firebaseio.com/datanode/4/Ozone4.json'], 'Number of Partitions': 4}, 'OzoneHole': {'File Name': 'OzoneHole', 'Locations': ['https://usctrojan-18644-default-rtdb.firebaseio.com/datanode/1/OzoneHole1.json', 'https://usctrojan-18644-default-rtdb.firebaseio.com/datanode/2/OzoneHole2.json'], 'Number of Partitions': 2}, 'Salaries': {'File Name': 'Salaries', 'Locations': ['https://usctrojan-18644-default-rtdb.firebaseio.com/datanode/1/Salaries1.json', 'https://usctrojan-18644-default-rtdb.firebaseio.com/datanode/2/Salaries2.json', 'https://usctrojan-18644-default-rtdb.firebaseio.com/datanode/3/Salaries3.json', 'https://usctrojan-18644-default-rtdb.firebaseio.com/datanode/4/Salaries4.json', 'https://usctrojan-18644-default-rtdb.firebaseio.com/datanode/5/Salaries5.json'], 'Number of Partitions': 5}, 'SeaLevel': {'File Name': 'SeaLevel', 'Locations': ['https://usctrojan-18644-default-rtdb.firebaseio.com/datanode/1/SeaLevel1.json', 'https://usctrojan-18644-default-rtdb.firebaseio.com/datanode/2/SeaLevel2.json', 'https://usctrojan-18644-default-rtdb.firebaseio.com/datanode/3/SeaLevel3.json', 'https://usctrojan-18644-default-rtdb.firebaseio.com/datanode/4/SeaLevel4.json', 'https://usctrojan-18644-default-rtdb.firebaseio.com/datanode/5/SeaLevel5.json'], 'Number of Partitions': 5}, 'Seas': {'File Name': 'Seas', 'Locations': ['https://usctrojan-18644-default-rtdb.firebaseio.com/datanode/1/Seas1.json', 'https://usctrojan-18644-default-rtdb.firebaseio.com/datanode/2/Seas2.json', 'https://usctrojan-18644-default-rtdb.firebaseio.com/datanode/3/Seas3.json', 'https://usctrojan-18644-default-rtdb.firebaseio.com/datanode/4/Seas4.json', 'https://usctrojan-18644-default-rtdb.firebaseio.com/datanode/5/Seas5.json'], 'Number of Partitions': 5}}}, 'images': '', 'test': ''}\n",
      "{'desktop': {'games': ''}, 'documents': '', 'files': {'temperatures': {'Salaries': {'File Name': 'Salaries', 'Locations': ['https://usctrojan-18644-default-rtdb.firebaseio.com/datanode/1/Salaries1.json', 'https://usctrojan-18644-default-rtdb.firebaseio.com/datanode/2/Salaries2.json', 'https://usctrojan-18644-default-rtdb.firebaseio.com/datanode/3/Salaries3.json', 'https://usctrojan-18644-default-rtdb.firebaseio.com/datanode/4/Salaries4.json'], 'Number of Partitions': 4}}, 'test': '', 'weather': {'CityTemp': {'File Name': 'CityTemp', 'Locations': ['https://usctrojan-18644-default-rtdb.firebaseio.com/datanode/1/CityTemp1.json', 'https://usctrojan-18644-default-rtdb.firebaseio.com/datanode/2/CityTemp2.json', 'https://usctrojan-18644-default-rtdb.firebaseio.com/datanode/3/CityTemp3.json', 'https://usctrojan-18644-default-rtdb.firebaseio.com/datanode/4/CityTemp4.json', 'https://usctrojan-18644-default-rtdb.firebaseio.com/datanode/5/CityTemp5.json'], 'Number of Partitions': 5}, 'Ozone': {'File Name': 'Ozone', 'Locations': ['https://usctrojan-18644-default-rtdb.firebaseio.com/datanode/1/Ozone1.json', 'https://usctrojan-18644-default-rtdb.firebaseio.com/datanode/2/Ozone2.json', 'https://usctrojan-18644-default-rtdb.firebaseio.com/datanode/3/Ozone3.json', 'https://usctrojan-18644-default-rtdb.firebaseio.com/datanode/4/Ozone4.json'], 'Number of Partitions': 4}, 'OzoneHole': {'File Name': 'OzoneHole', 'Locations': ['https://usctrojan-18644-default-rtdb.firebaseio.com/datanode/1/OzoneHole1.json', 'https://usctrojan-18644-default-rtdb.firebaseio.com/datanode/2/OzoneHole2.json'], 'Number of Partitions': 2}, 'Salaries': {'File Name': 'Salaries', 'Locations': ['https://usctrojan-18644-default-rtdb.firebaseio.com/datanode/1/Salaries1.json', 'https://usctrojan-18644-default-rtdb.firebaseio.com/datanode/2/Salaries2.json', 'https://usctrojan-18644-default-rtdb.firebaseio.com/datanode/3/Salaries3.json', 'https://usctrojan-18644-default-rtdb.firebaseio.com/datanode/4/Salaries4.json', 'https://usctrojan-18644-default-rtdb.firebaseio.com/datanode/5/Salaries5.json'], 'Number of Partitions': 5}, 'SeaLevel': {'File Name': 'SeaLevel', 'Locations': ['https://usctrojan-18644-default-rtdb.firebaseio.com/datanode/1/SeaLevel1.json', 'https://usctrojan-18644-default-rtdb.firebaseio.com/datanode/2/SeaLevel2.json', 'https://usctrojan-18644-default-rtdb.firebaseio.com/datanode/3/SeaLevel3.json', 'https://usctrojan-18644-default-rtdb.firebaseio.com/datanode/4/SeaLevel4.json', 'https://usctrojan-18644-default-rtdb.firebaseio.com/datanode/5/SeaLevel5.json'], 'Number of Partitions': 5}, 'Seas': {'File Name': 'Seas', 'Locations': ['https://usctrojan-18644-default-rtdb.firebaseio.com/datanode/1/Seas1.json', 'https://usctrojan-18644-default-rtdb.firebaseio.com/datanode/2/Seas2.json', 'https://usctrojan-18644-default-rtdb.firebaseio.com/datanode/3/Seas3.json', 'https://usctrojan-18644-default-rtdb.firebaseio.com/datanode/4/Seas4.json', 'https://usctrojan-18644-default-rtdb.firebaseio.com/datanode/5/Seas5.json'], 'Number of Partitions': 5}}}, 'images': '', 'test': '', 'test2': ''}\n"
     ]
    },
    {
     "name": "stdout",
     "output_type": "stream",
     "text": [
      "{'temperatures': {'Salaries': {'File Name': 'Salaries', 'Locations': ['https://usctrojan-18644-default-rtdb.firebaseio.com/datanode/1/Salaries1.json', 'https://usctrojan-18644-default-rtdb.firebaseio.com/datanode/2/Salaries2.json', 'https://usctrojan-18644-default-rtdb.firebaseio.com/datanode/3/Salaries3.json', 'https://usctrojan-18644-default-rtdb.firebaseio.com/datanode/4/Salaries4.json'], 'Number of Partitions': 4}}, 'test': '', 'weather': {'CityTemp': {'File Name': 'CityTemp', 'Locations': ['https://usctrojan-18644-default-rtdb.firebaseio.com/datanode/1/CityTemp1.json', 'https://usctrojan-18644-default-rtdb.firebaseio.com/datanode/2/CityTemp2.json', 'https://usctrojan-18644-default-rtdb.firebaseio.com/datanode/3/CityTemp3.json', 'https://usctrojan-18644-default-rtdb.firebaseio.com/datanode/4/CityTemp4.json', 'https://usctrojan-18644-default-rtdb.firebaseio.com/datanode/5/CityTemp5.json'], 'Number of Partitions': 5}, 'Ozone': {'File Name': 'Ozone', 'Locations': ['https://usctrojan-18644-default-rtdb.firebaseio.com/datanode/1/Ozone1.json', 'https://usctrojan-18644-default-rtdb.firebaseio.com/datanode/2/Ozone2.json', 'https://usctrojan-18644-default-rtdb.firebaseio.com/datanode/3/Ozone3.json', 'https://usctrojan-18644-default-rtdb.firebaseio.com/datanode/4/Ozone4.json'], 'Number of Partitions': 4}, 'OzoneHole': {'File Name': 'OzoneHole', 'Locations': ['https://usctrojan-18644-default-rtdb.firebaseio.com/datanode/1/OzoneHole1.json', 'https://usctrojan-18644-default-rtdb.firebaseio.com/datanode/2/OzoneHole2.json'], 'Number of Partitions': 2}, 'Salaries': {'File Name': 'Salaries', 'Locations': ['https://usctrojan-18644-default-rtdb.firebaseio.com/datanode/1/Salaries1.json', 'https://usctrojan-18644-default-rtdb.firebaseio.com/datanode/2/Salaries2.json', 'https://usctrojan-18644-default-rtdb.firebaseio.com/datanode/3/Salaries3.json', 'https://usctrojan-18644-default-rtdb.firebaseio.com/datanode/4/Salaries4.json', 'https://usctrojan-18644-default-rtdb.firebaseio.com/datanode/5/Salaries5.json'], 'Number of Partitions': 5}, 'SeaLevel': {'File Name': 'SeaLevel', 'Locations': ['https://usctrojan-18644-default-rtdb.firebaseio.com/datanode/1/SeaLevel1.json', 'https://usctrojan-18644-default-rtdb.firebaseio.com/datanode/2/SeaLevel2.json', 'https://usctrojan-18644-default-rtdb.firebaseio.com/datanode/3/SeaLevel3.json', 'https://usctrojan-18644-default-rtdb.firebaseio.com/datanode/4/SeaLevel4.json', 'https://usctrojan-18644-default-rtdb.firebaseio.com/datanode/5/SeaLevel5.json'], 'Number of Partitions': 5}, 'Seas': {'File Name': 'Seas', 'Locations': ['https://usctrojan-18644-default-rtdb.firebaseio.com/datanode/1/Seas1.json', 'https://usctrojan-18644-default-rtdb.firebaseio.com/datanode/2/Seas2.json', 'https://usctrojan-18644-default-rtdb.firebaseio.com/datanode/3/Seas3.json', 'https://usctrojan-18644-default-rtdb.firebaseio.com/datanode/4/Seas4.json', 'https://usctrojan-18644-default-rtdb.firebaseio.com/datanode/5/Seas5.json'], 'Number of Partitions': 5}}}\n",
      "Location does not exist\n",
      "{'CityTemp': {'File Name': 'CityTemp', 'Locations': ['https://usctrojan-18644-default-rtdb.firebaseio.com/datanode/1/CityTemp1.json', 'https://usctrojan-18644-default-rtdb.firebaseio.com/datanode/2/CityTemp2.json', 'https://usctrojan-18644-default-rtdb.firebaseio.com/datanode/3/CityTemp3.json', 'https://usctrojan-18644-default-rtdb.firebaseio.com/datanode/4/CityTemp4.json', 'https://usctrojan-18644-default-rtdb.firebaseio.com/datanode/5/CityTemp5.json'], 'Number of Partitions': 5}, 'Ozone': {'File Name': 'Ozone', 'Locations': ['https://usctrojan-18644-default-rtdb.firebaseio.com/datanode/1/Ozone1.json', 'https://usctrojan-18644-default-rtdb.firebaseio.com/datanode/2/Ozone2.json', 'https://usctrojan-18644-default-rtdb.firebaseio.com/datanode/3/Ozone3.json', 'https://usctrojan-18644-default-rtdb.firebaseio.com/datanode/4/Ozone4.json'], 'Number of Partitions': 4}, 'OzoneHole': {'File Name': 'OzoneHole', 'Locations': ['https://usctrojan-18644-default-rtdb.firebaseio.com/datanode/1/OzoneHole1.json', 'https://usctrojan-18644-default-rtdb.firebaseio.com/datanode/2/OzoneHole2.json'], 'Number of Partitions': 2}, 'Salaries': {'File Name': 'Salaries', 'Locations': ['https://usctrojan-18644-default-rtdb.firebaseio.com/datanode/1/Salaries1.json', 'https://usctrojan-18644-default-rtdb.firebaseio.com/datanode/2/Salaries2.json', 'https://usctrojan-18644-default-rtdb.firebaseio.com/datanode/3/Salaries3.json', 'https://usctrojan-18644-default-rtdb.firebaseio.com/datanode/4/Salaries4.json', 'https://usctrojan-18644-default-rtdb.firebaseio.com/datanode/5/Salaries5.json'], 'Number of Partitions': 5}, 'SeaLevel': {'File Name': 'SeaLevel', 'Locations': ['https://usctrojan-18644-default-rtdb.firebaseio.com/datanode/1/SeaLevel1.json', 'https://usctrojan-18644-default-rtdb.firebaseio.com/datanode/2/SeaLevel2.json', 'https://usctrojan-18644-default-rtdb.firebaseio.com/datanode/3/SeaLevel3.json', 'https://usctrojan-18644-default-rtdb.firebaseio.com/datanode/4/SeaLevel4.json', 'https://usctrojan-18644-default-rtdb.firebaseio.com/datanode/5/SeaLevel5.json'], 'Number of Partitions': 5}, 'Seas': {'File Name': 'Seas', 'Locations': ['https://usctrojan-18644-default-rtdb.firebaseio.com/datanode/1/Seas1.json', 'https://usctrojan-18644-default-rtdb.firebaseio.com/datanode/2/Seas2.json', 'https://usctrojan-18644-default-rtdb.firebaseio.com/datanode/3/Seas3.json', 'https://usctrojan-18644-default-rtdb.firebaseio.com/datanode/4/Seas4.json', 'https://usctrojan-18644-default-rtdb.firebaseio.com/datanode/5/Seas5.json'], 'Number of Partitions': 5}}\n",
      "{'CityTemp': {'File Name': 'CityTemp', 'Locations': ['https://usctrojan-18644-default-rtdb.firebaseio.com/datanode/1/CityTemp1.json', 'https://usctrojan-18644-default-rtdb.firebaseio.com/datanode/2/CityTemp2.json', 'https://usctrojan-18644-default-rtdb.firebaseio.com/datanode/3/CityTemp3.json', 'https://usctrojan-18644-default-rtdb.firebaseio.com/datanode/4/CityTemp4.json', 'https://usctrojan-18644-default-rtdb.firebaseio.com/datanode/5/CityTemp5.json'], 'Number of Partitions': 5}, 'Ozone': {'File Name': 'Ozone', 'Locations': ['https://usctrojan-18644-default-rtdb.firebaseio.com/datanode/1/Ozone1.json', 'https://usctrojan-18644-default-rtdb.firebaseio.com/datanode/2/Ozone2.json', 'https://usctrojan-18644-default-rtdb.firebaseio.com/datanode/3/Ozone3.json', 'https://usctrojan-18644-default-rtdb.firebaseio.com/datanode/4/Ozone4.json'], 'Number of Partitions': 4}, 'OzoneHole': {'File Name': 'OzoneHole', 'Locations': ['https://usctrojan-18644-default-rtdb.firebaseio.com/datanode/1/OzoneHole1.json', 'https://usctrojan-18644-default-rtdb.firebaseio.com/datanode/2/OzoneHole2.json'], 'Number of Partitions': 2}, 'SeaLevel': {'File Name': 'SeaLevel', 'Locations': ['https://usctrojan-18644-default-rtdb.firebaseio.com/datanode/1/SeaLevel1.json', 'https://usctrojan-18644-default-rtdb.firebaseio.com/datanode/2/SeaLevel2.json', 'https://usctrojan-18644-default-rtdb.firebaseio.com/datanode/3/SeaLevel3.json', 'https://usctrojan-18644-default-rtdb.firebaseio.com/datanode/4/SeaLevel4.json', 'https://usctrojan-18644-default-rtdb.firebaseio.com/datanode/5/SeaLevel5.json'], 'Number of Partitions': 5}, 'Seas': {'File Name': 'Seas', 'Locations': ['https://usctrojan-18644-default-rtdb.firebaseio.com/datanode/1/Seas1.json', 'https://usctrojan-18644-default-rtdb.firebaseio.com/datanode/2/Seas2.json', 'https://usctrojan-18644-default-rtdb.firebaseio.com/datanode/3/Seas3.json', 'https://usctrojan-18644-default-rtdb.firebaseio.com/datanode/4/Seas4.json', 'https://usctrojan-18644-default-rtdb.firebaseio.com/datanode/5/Seas5.json'], 'Number of Partitions': 5}}\n",
      "{'CityTemp': {'File Name': 'CityTemp', 'Locations': ['https://usctrojan-18644-default-rtdb.firebaseio.com/datanode/1/CityTemp1.json', 'https://usctrojan-18644-default-rtdb.firebaseio.com/datanode/2/CityTemp2.json', 'https://usctrojan-18644-default-rtdb.firebaseio.com/datanode/3/CityTemp3.json', 'https://usctrojan-18644-default-rtdb.firebaseio.com/datanode/4/CityTemp4.json', 'https://usctrojan-18644-default-rtdb.firebaseio.com/datanode/5/CityTemp5.json'], 'Number of Partitions': 5}, 'Ozone': {'File Name': 'Ozone', 'Locations': ['https://usctrojan-18644-default-rtdb.firebaseio.com/datanode/1/Ozone1.json', 'https://usctrojan-18644-default-rtdb.firebaseio.com/datanode/2/Ozone2.json', 'https://usctrojan-18644-default-rtdb.firebaseio.com/datanode/3/Ozone3.json', 'https://usctrojan-18644-default-rtdb.firebaseio.com/datanode/4/Ozone4.json'], 'Number of Partitions': 4}, 'OzoneHole': {'File Name': 'OzoneHole', 'Locations': ['https://usctrojan-18644-default-rtdb.firebaseio.com/datanode/1/OzoneHole1.json', 'https://usctrojan-18644-default-rtdb.firebaseio.com/datanode/2/OzoneHole2.json'], 'Number of Partitions': 2}, 'Salaries': {'File Name': 'Salaries', 'Locations': ['https://usctrojan-18644-default-rtdb.firebaseio.com/datanode/1/Salaries1.json', 'https://usctrojan-18644-default-rtdb.firebaseio.com/datanode/2/Salaries2.json', 'https://usctrojan-18644-default-rtdb.firebaseio.com/datanode/3/Salaries3.json', 'https://usctrojan-18644-default-rtdb.firebaseio.com/datanode/4/Salaries4.json', 'https://usctrojan-18644-default-rtdb.firebaseio.com/datanode/5/Salaries5.json'], 'Number of Partitions': 5}, 'SeaLevel': {'File Name': 'SeaLevel', 'Locations': ['https://usctrojan-18644-default-rtdb.firebaseio.com/datanode/1/SeaLevel1.json', 'https://usctrojan-18644-default-rtdb.firebaseio.com/datanode/2/SeaLevel2.json', 'https://usctrojan-18644-default-rtdb.firebaseio.com/datanode/3/SeaLevel3.json', 'https://usctrojan-18644-default-rtdb.firebaseio.com/datanode/4/SeaLevel4.json', 'https://usctrojan-18644-default-rtdb.firebaseio.com/datanode/5/SeaLevel5.json'], 'Number of Partitions': 5}, 'Seas': {'File Name': 'Seas', 'Locations': ['https://usctrojan-18644-default-rtdb.firebaseio.com/datanode/1/Seas1.json', 'https://usctrojan-18644-default-rtdb.firebaseio.com/datanode/2/Seas2.json', 'https://usctrojan-18644-default-rtdb.firebaseio.com/datanode/3/Seas3.json', 'https://usctrojan-18644-default-rtdb.firebaseio.com/datanode/4/Seas4.json', 'https://usctrojan-18644-default-rtdb.firebaseio.com/datanode/5/Seas5.json'], 'Number of Partitions': 5}}\n"
     ]
    },
    {
     "name": "stdout",
     "output_type": "stream",
     "text": [
      "{'CityTemp': {'File Name': 'CityTemp', 'Locations': ['https://usctrojan-18644-default-rtdb.firebaseio.com/datanode/1/CityTemp1.json', 'https://usctrojan-18644-default-rtdb.firebaseio.com/datanode/2/CityTemp2.json', 'https://usctrojan-18644-default-rtdb.firebaseio.com/datanode/3/CityTemp3.json', 'https://usctrojan-18644-default-rtdb.firebaseio.com/datanode/4/CityTemp4.json', 'https://usctrojan-18644-default-rtdb.firebaseio.com/datanode/5/CityTemp5.json'], 'Number of Partitions': 5}, 'Ozone': {'File Name': 'Ozone', 'Locations': ['https://usctrojan-18644-default-rtdb.firebaseio.com/datanode/1/Ozone1.json', 'https://usctrojan-18644-default-rtdb.firebaseio.com/datanode/2/Ozone2.json', 'https://usctrojan-18644-default-rtdb.firebaseio.com/datanode/3/Ozone3.json', 'https://usctrojan-18644-default-rtdb.firebaseio.com/datanode/4/Ozone4.json'], 'Number of Partitions': 4}, 'OzoneHole': {'File Name': 'OzoneHole', 'Locations': ['https://usctrojan-18644-default-rtdb.firebaseio.com/datanode/1/OzoneHole1.json', 'https://usctrojan-18644-default-rtdb.firebaseio.com/datanode/2/OzoneHole2.json'], 'Number of Partitions': 2}, 'Salaries': {'File Name': 'Salaries', 'Locations': ['https://usctrojan-18644-default-rtdb.firebaseio.com/datanode/1/Salaries1.json', 'https://usctrojan-18644-default-rtdb.firebaseio.com/datanode/2/Salaries2.json', 'https://usctrojan-18644-default-rtdb.firebaseio.com/datanode/3/Salaries3.json', 'https://usctrojan-18644-default-rtdb.firebaseio.com/datanode/4/Salaries4.json', 'https://usctrojan-18644-default-rtdb.firebaseio.com/datanode/5/Salaries5.json'], 'Number of Partitions': 5}, 'SeaLevel': {'File Name': 'SeaLevel', 'Locations': ['https://usctrojan-18644-default-rtdb.firebaseio.com/datanode/1/SeaLevel1.json', 'https://usctrojan-18644-default-rtdb.firebaseio.com/datanode/2/SeaLevel2.json', 'https://usctrojan-18644-default-rtdb.firebaseio.com/datanode/3/SeaLevel3.json', 'https://usctrojan-18644-default-rtdb.firebaseio.com/datanode/4/SeaLevel4.json', 'https://usctrojan-18644-default-rtdb.firebaseio.com/datanode/5/SeaLevel5.json'], 'Number of Partitions': 5}, 'Seas': {'File Name': 'Seas', 'Locations': ['https://usctrojan-18644-default-rtdb.firebaseio.com/datanode/1/Seas1.json', 'https://usctrojan-18644-default-rtdb.firebaseio.com/datanode/2/Seas2.json', 'https://usctrojan-18644-default-rtdb.firebaseio.com/datanode/3/Seas3.json', 'https://usctrojan-18644-default-rtdb.firebaseio.com/datanode/4/Seas4.json', 'https://usctrojan-18644-default-rtdb.firebaseio.com/datanode/5/Seas5.json'], 'Number of Partitions': 5}}\n"
     ]
    }
   ],
   "source": [
    "@anvil.server.callable           \n",
    "def tempanalytics(start_year, end_year):\n",
    "    df = cat(Ozone)\n",
    "    si = df.loc[df['Year'] == start_year].index[0]\n",
    "    ei = df.loc[df['Year'] == end_year].index[0]\n",
    "    sns.set_style(\"darkgrid\")\n",
    "    sns.lineplot(data= df[si:ei], x=\"Year\", y=\"Hole Area\")\n",
    "    return anvil.mpl_util.plot_image()"
   ]
  }
 ],
 "metadata": {
  "colab": {
   "provenance": []
  },
  "kernelspec": {
   "display_name": "Python 3 (ipykernel)",
   "language": "python",
   "name": "python3"
  },
  "language_info": {
   "codemirror_mode": {
    "name": "ipython",
    "version": 3
   },
   "file_extension": ".py",
   "mimetype": "text/x-python",
   "name": "python",
   "nbconvert_exporter": "python",
   "pygments_lexer": "ipython3",
   "version": "3.9.12"
  },
  "vscode": {
   "interpreter": {
    "hash": "69c8373cbc5d1f59810763127ef554a963773809423900da9a7aab53027e91d5"
   }
  }
 },
 "nbformat": 4,
 "nbformat_minor": 1
}
